{
 "cells": [
  {
   "cell_type": "code",
   "execution_count": 11,
   "metadata": {
    "collapsed": true
   },
   "outputs": [],
   "source": [
    "def basic_analysis():\n",
    "    import pandas as pd\n",
    "    import matplotlib.pyplot as plt\n",
    "    import numpy as np\n",
    "    %matplotlib inline\n",
    "    data_0 = pd.read_csv(\"/Users/jun/Documents/data/BTCETHLTC_USD.csv\")\n",
    "    n = data_0.shape[0]\n",
    "    print( type(data_0) )\n",
    "    print(\"row number:\",n)\n",
    "    print(\"columns\", data_0.columns)\n",
    "    print(data_0.loc[0])\n",
    "    btc = data_0['last_trade_price_BTC']\n",
    "    ltc = data_0['last_trade_price_LTC']\n",
    "    eth = data_0['last_trade_price_ETH']\n",
    "    plt.scatter(range(data_0.shape[0]), btc/eth)\n",
    "    plt.show()\n",
    "    print( 'Correlation', btc.corr(eth), eth.corr(btc) )\n",
    "    return btc/eth"
   ]
  },
  {
   "cell_type": "code",
   "execution_count": 12,
   "metadata": {
    "collapsed": false
   },
   "outputs": [],
   "source": [
    "def dick_fuller_test(btc_eth_ratio):\n",
    "    import numpy as np\n",
    "    # unit root test?\n",
    "    # refer to https://machinelearningmastery.com/time-series-data-stationary-python/\n",
    "    # Augmented Dickey-Fuller test\n",
    "    from statsmodels.tsa.stattools import adfuller\n",
    "    result = adfuller(np.array( btc_eth_ratio )[:300] )\n",
    "    print('ADF Statistic: %f' % result[0])\n",
    "    print('p-value: %f' % result[1])\n",
    "    print('Critical Values:')\n",
    "    for key, value in result[4].items():\n",
    "        print('\\t%s: %.3f' % (key, value))\n",
    "    # null hypothesis: it has no unit root, so we can not reject\n",
    "    # it is not stationary here"
   ]
  },
  {
   "cell_type": "code",
   "execution_count": 13,
   "metadata": {
    "collapsed": false
   },
   "outputs": [
    {
     "name": "stdout",
     "output_type": "stream",
     "text": [
      "<class 'pandas.core.frame.DataFrame'>\n",
      "('row number:', 88568)\n",
      "('columns', Index([u'date', u'last_trade_price_BTC', u'vol_weighted_price_BTC',\n",
      "       u'buy_weighted_price_BTC', u'sell_weighted_price_BTC',\n",
      "       u'buy_amount_BTC', u'sell_amount_BTC', u'total_amount_BTC',\n",
      "       u'last_trade_price_ETH', u'vol_weighted_price_ETH',\n",
      "       u'buy_weighted_price_ETH', u'sell_weighted_price_ETH',\n",
      "       u'buy_amount_ETH', u'sell_amount_ETH', u'total_amount_ETH',\n",
      "       u'last_trade_price_LTC', u'vol_weighted_price_LTC',\n",
      "       u'buy_weighted_price_LTC', u'sell_weighted_price_LTC',\n",
      "       u'buy_amount_LTC', u'sell_amount_LTC', u'total_amount_LTC'],\n",
      "      dtype='object'))\n",
      "date                       2017-08-01T00:00:00Z\n",
      "last_trade_price_BTC                    2855.59\n",
      "vol_weighted_price_BTC                  2855.62\n",
      "buy_weighted_price_BTC                  2856.91\n",
      "sell_weighted_price_BTC                 2854.73\n",
      "buy_amount_BTC                          3.62223\n",
      "sell_amount_BTC                         5.22735\n",
      "total_amount_BTC                        8.84958\n",
      "last_trade_price_ETH                     200.83\n",
      "vol_weighted_price_ETH                   200.83\n",
      "buy_weighted_price_ETH                   200.83\n",
      "sell_weighted_price_ETH                     NaN\n",
      "buy_amount_ETH                          193.759\n",
      "sell_amount_ETH                               0\n",
      "total_amount_ETH                        193.759\n",
      "last_trade_price_LTC                        NaN\n",
      "vol_weighted_price_LTC                      NaN\n",
      "buy_weighted_price_LTC                      NaN\n",
      "sell_weighted_price_LTC                     NaN\n",
      "buy_amount_LTC                              NaN\n",
      "sell_amount_LTC                             NaN\n",
      "total_amount_LTC                            NaN\n",
      "Name: 0, dtype: object\n"
     ]
    },
    {
     "data": {
      "image/png": "[encoded data removed]",
      "text/plain": [
       "<matplotlib.figure.Figure at 0x122f431d0>"
      ]
     },
     "metadata": {},
     "output_type": "display_data"
    },
    {
     "name": "stdout",
     "output_type": "stream",
     "text": [
      "('Correlation', 0.8363241470220264, 0.8363241470220264)\n"
     ]
    }
   ],
   "source": [
    "btc_eth_ratio = basic_analysis()"
   ]
  },
  {
   "cell_type": "code",
   "execution_count": 4,
   "metadata": {
    "collapsed": false
   },
   "outputs": [
    {
     "name": "stdout",
     "output_type": "stream",
     "text": [
      "ADF Statistic: -2.091787\n",
      "p-value: 0.247830\n",
      "Critical Values:\n",
      "\t5%: -2.871\n",
      "\t1%: -3.452\n",
      "\t10%: -2.572\n"
     ]
    },
    {
     "name": "stderr",
     "output_type": "stream",
     "text": [
      "/Users/jun/anaconda/lib/python2.7/site-packages/statsmodels/compat/pandas.py:56: FutureWarning: The pandas.core.datetools module is deprecated and will be removed in a future version. Please use the pandas.tseries module instead.\n",
      "  from pandas.core import datetools\n"
     ]
    }
   ],
   "source": [
    "dick_fuller_test(btc_eth_ratio)"
   ]
  },
  {
   "cell_type": "code",
   "execution_count": 5,
   "metadata": {
    "collapsed": false
   },
   "outputs": [],
   "source": [
    "# #不考虑仓位分配\n",
    "# #初始值 = 码金\n",
    "# margin = 1\n",
    "# initial_cash = margin\n",
    "# initial_btc = 0\n",
    "# initial_eth = 0\n",
    "# position_cash = initial_cash\n",
    "# position_btc = initial_btc\n",
    "# position_eth = initial_eth\n",
    "# res = 1\n",
    "# n = data_0.shape[0]\n",
    "# # mean = np.sum( btc_eth_ratio )/float(len( btc_eth_ratio ))\n",
    "# mean = np.mean( btc_eth_ratio )\n",
    "# std = np.std(btc_eth_ratio)\n",
    "# position = 0\n",
    "# position_hist = np.zeros(n)\n",
    "# #data\n",
    "# btc = data_0['last_trade_price_BTC']\n",
    "# ltc = data_0['last_trade_price_LTC']\n",
    "# eth = data_0['last_trade_price_ETH']\n",
    "# for i in range(n):\n",
    "#     if btc_eth_ratio[i] > mean + std and position != 1:\n",
    "#         print('long eth short btc')\n",
    "#         position_cash = position_cash + position_btc*btc[i] + position_eth*eth[i]\n",
    "#         position_btc = -position_cash/btc[i]\n",
    "#         position_eth = position_cash/eth[i]\n",
    "#         position = 1\n",
    "#     if btc_eth_ratio[i] < mean - std and position != -1:\n",
    "#         print('long btc short eth')\n",
    "#         position_cash = position_cash + position_btc*btc[i] + position_eth*eth[i]\n",
    "#         position_btc = position_cash/btc[i]\n",
    "#         position_eth = -position_cash/eth[i]\n",
    "#         position = -1\n",
    "#     position_hist[i] = position_cash + position_btc*btc[i] + position_eth*eth[i]\n",
    "# res = position_cash + position_btc*btc[n-1] + position_eth*eth[n-1]\n",
    "# print(res)"
   ]
  },
  {
   "cell_type": "code",
   "execution_count": 6,
   "metadata": {
    "collapsed": false
   },
   "outputs": [],
   "source": [
    "# import matplotlib.pyplot as plt\n",
    "# plt.scatter(range(data_0.shape[0]),position_hist )\n",
    "# plt.show()"
   ]
  },
  {
   "cell_type": "code",
   "execution_count": 17,
   "metadata": {
    "collapsed": false
   },
   "outputs": [],
   "source": [
    "import pandas as pd\n",
    "data_0 = pd.read_csv(\"/Users/jun/Documents/data/BTCETHLTC_USD.csv\")\n",
    "btc = data_0['last_trade_price_BTC']\n",
    "ltc = data_0['last_trade_price_LTC']\n",
    "eth = data_0['last_trade_price_ETH']"
   ]
  },
  {
   "cell_type": "code",
   "execution_count": 14,
   "metadata": {
    "collapsed": false
   },
   "outputs": [
    {
     "data": {
      "text/plain": [
       "Index([u'date', u'last_trade_price_BTC', u'vol_weighted_price_BTC',\n",
       "       u'buy_weighted_price_BTC', u'sell_weighted_price_BTC',\n",
       "       u'buy_amount_BTC', u'sell_amount_BTC', u'total_amount_BTC',\n",
       "       u'last_trade_price_ETH', u'vol_weighted_price_ETH',\n",
       "       u'buy_weighted_price_ETH', u'sell_weighted_price_ETH',\n",
       "       u'buy_amount_ETH', u'sell_amount_ETH', u'total_amount_ETH',\n",
       "       u'last_trade_price_LTC', u'vol_weighted_price_LTC',\n",
       "       u'buy_weighted_price_LTC', u'sell_weighted_price_LTC',\n",
       "       u'buy_amount_LTC', u'sell_amount_LTC', u'total_amount_LTC'],\n",
       "      dtype='object')"
      ]
     },
     "execution_count": 14,
     "metadata": {},
     "output_type": "execute_result"
    }
   ],
   "source": [
    "data_0.columns"
   ]
  },
  {
   "cell_type": "code",
   "execution_count": 24,
   "metadata": {
    "collapsed": false
   },
   "outputs": [],
   "source": [
    "def pairs_trading_back_testing(btc,eth):\n",
    "    import numpy as np\n",
    "    btc_eth_ratio = btc/eth\n",
    "    margin = 1\n",
    "    initial_cash = margin\n",
    "    initial_btc = 0\n",
    "    initial_eth = 0\n",
    "    position_cash = initial_cash\n",
    "    position_btc = initial_btc\n",
    "    position_eth = initial_eth\n",
    "    res = 1\n",
    "    n = data_0.shape[0]\n",
    "    position = 0\n",
    "    position_hist = np.zeros(n)\n",
    "#     mean = np.mean( btc_eth_ratio)\n",
    "#     std = np.std(btc_eth_ratio)\n",
    "    for i in range(n):\n",
    "        mean = np.mean( btc_eth_ratio[:i+1] )\n",
    "        std = np.std(btc_eth_ratio[:i+1])\n",
    "        if btc_eth_ratio[i] > mean + std and position != 1:\n",
    "            print('long second short first')\n",
    "            position_cash = position_cash + position_btc*btc[i] + position_eth*eth[i]\n",
    "            position_btc = -position_cash/btc[i]\n",
    "            position_eth = position_cash/eth[i]\n",
    "            position = 1\n",
    "        if btc_eth_ratio[i] < mean - std and position != -1:\n",
    "            print('long first short second')\n",
    "            position_cash = position_cash + position_btc*btc[i] + position_eth*eth[i]\n",
    "            position_btc = position_cash/btc[i]\n",
    "            position_eth = -position_cash/eth[i]\n",
    "            position = -1\n",
    "        position_hist[i] = position_cash + position_btc*btc[i] + position_eth*eth[i]\n",
    "    res = position_cash + position_btc*btc[n-1] + position_eth*eth[n-1]\n",
    "    print(res)\n",
    "    import matplotlib.pyplot as plt\n",
    "    plt.scatter(range(data_0.shape[0]),position_hist)\n",
    "    plt.show()"
   ]
  },
  {
   "cell_type": "code",
   "execution_count": 25,
   "metadata": {
    "collapsed": false
   },
   "outputs": [
    {
     "name": "stdout",
     "output_type": "stream",
     "text": [
      "long second short first\n",
      "long first short second\n",
      "long second short first\n",
      "long first short second\n",
      "long second short first\n",
      "long first short second\n",
      "1.94658654739\n"
     ]
    },
    {
     "data": {
      "image/png": "[encoded data removed]",
      "text/plain": [
       "<matplotlib.figure.Figure at 0x12344b190>"
      ]
     },
     "metadata": {},
     "output_type": "display_data"
    }
   ],
   "source": [
    "pairs_trading_back_testing(btc,ltc)"
   ]
  },
  {
   "cell_type": "code",
   "execution_count": 37,
   "metadata": {
    "collapsed": false
   },
   "outputs": [
    {
     "data": {
      "text/plain": [
       "Index([u'date', u'last_trade_price_BTC', u'vol_weighted_price_BTC',\n",
       "       u'buy_weighted_price_BTC', u'sell_weighted_price_BTC',\n",
       "       u'buy_amount_BTC', u'sell_amount_BTC', u'total_amount_BTC',\n",
       "       u'last_trade_price_ETH', u'vol_weighted_price_ETH',\n",
       "       u'buy_weighted_price_ETH', u'sell_weighted_price_ETH',\n",
       "       u'buy_amount_ETH', u'sell_amount_ETH', u'total_amount_ETH',\n",
       "       u'last_trade_price_LTC', u'vol_weighted_price_LTC',\n",
       "       u'buy_weighted_price_LTC', u'sell_weighted_price_LTC',\n",
       "       u'buy_amount_LTC', u'sell_amount_LTC', u'total_amount_LTC'],\n",
       "      dtype='object')"
      ]
     },
     "execution_count": 37,
     "metadata": {},
     "output_type": "execute_result"
    }
   ],
   "source": [
    "data_0.columns"
   ]
  },
  {
   "cell_type": "code",
   "execution_count": 38,
   "metadata": {
    "collapsed": true
   },
   "outputs": [],
   "source": [
    "btc_sell = data_0['sell_weighted_price_BTC']\n",
    "btc_buy = data_0['buy_weighted_price_BTC']\n",
    "ltc_sell = data_0['sell_weighted_price_LTC']\n",
    "ltc_buy = data_0['buy_weighted_price_LTC']\n",
    "eth_sell = data_0['sell_weighted_price_ETH']\n",
    "eth_buy = data_0['buy_weighted_price_ETH']"
   ]
  },
  {
   "cell_type": "code",
   "execution_count": 59,
   "metadata": {
    "collapsed": false
   },
   "outputs": [
    {
     "name": "stdout",
     "output_type": "stream",
     "text": [
      "[(-2.1798458606958775,),\n",
      " (0.031094780141302181,),\n",
      " (-0.37591058591897308,),\n",
      " (-0.24191961801216166,),\n",
      " (-0.2286033340128597,),\n",
      " (-0.21221618150775612,),\n",
      " (-0.060741917824543634,),\n",
      " (1.9468730683129252,),\n",
      " (-1.1652687423302268,),\n",
      " (-0.20156228569658197,),\n",
      " (-0.2826275103629996,),\n",
      " (-0.029054007368358725,),\n",
      " (0.2517734760208441,),\n",
      " (-0.71831255773258817,),\n",
      " (-3.607112776185204,),\n",
      " (-0.63954250207098085,),\n",
      " (-3.1038598973855187,),\n",
      " (-0.45000538334579687,),\n",
      " (-0.0099999999997635314,),\n",
      " (-0.010000000000673026,),\n",
      " (-1.3931256947134898,),\n",
      " (nan,),\n",
      " (-1.8573736186895076,),\n",
      " (-0.99447345806129306,),\n",
      " (-0.089404321854090085,),\n",
      " (-2.3110351220843768,),\n",
      " (-7.63063867538267,),\n",
      " (-2.727133399889226,),\n",
      " (-4.3394140633781717,),\n",
      " (-5.164516386032119,),\n",
      " (-2.1123748656073076,),\n",
      " (-0.57975186365911213,),\n",
      " (-2.6067144282851586,),\n",
      " (-5.3078433182154185,),\n",
      " (nan,),\n",
      " (0.27826389025403842,),\n",
      " (-2.7411201071845426,),\n",
      " (-1.5566199738059368,),\n",
      " (-3.8945325873605725,),\n",
      " (1.5316034750967447,),\n",
      " (-4.5899320073426679,),\n",
      " (-4.0553307698669414,),\n",
      " (-0.30701698130087607,),\n",
      " (-0.58510175252695262,),\n",
      " (-1.9894015542786292,),\n",
      " (0.25658665477112663,),\n",
      " (-0.058657327355831512,),\n",
      " (-0.01350173158061807,),\n",
      " (-1.8509414181989996,),\n",
      " (-1.2575317833479858,),\n",
      " (-5.472247985703234,),\n",
      " (-0.25047470156368945,),\n",
      " (-2.9589634326143823,),\n",
      " (-0.0099999999997635314,),\n",
      " (-0.010000000000218279,),\n",
      " (-2.6903701539827125,),\n",
      " (-2.6885689730761442,),\n",
      " (-1.5243596851223629,),\n",
      " (-1.7756160045382785,),\n",
      " (-0.29377392210244579,),\n",
      " (nan,),\n",
      " (-0.010000000000218279,),\n",
      " (-0.2095842864041515,),\n",
      " (nan,),\n",
      " (-0.009999999999308784,),\n",
      " (0.27146267982607242,),\n",
      " (-0.020586598071531625,),\n",
      " (-0.010000000000673026,),\n",
      " (-0.45281851246681981,),\n",
      " (-1.0959063731588685,),\n",
      " (-0.010000000000218279,),\n",
      " (1.2525284898893005,),\n",
      " (-0.37507204887469925,),\n",
      " (-3.0485977123234989,),\n",
      " (-3.6851633371447861,),\n",
      " (-1.4145731318008075,),\n",
      " (-5.4979062627594431,),\n",
      " (-1.9033218449567357,),\n",
      " (-0.80883092277690594,),\n",
      " (nan,),\n",
      " (-0.61428965052436979,),\n",
      " (-0.68999999999959982,),\n",
      " (-0.57402584823785219,),\n",
      " (-1.2775590825640393,),\n",
      " (-0.010000000000673026,),\n",
      " (nan,),\n",
      " (nan,),\n",
      " (-0.091002900872808823,),\n",
      " (-0.96381535791670103,),\n",
      " (-0.94921042095393204,),\n",
      " (-0.7873169591093756,),\n",
      " (0.040518325145967538,),\n",
      " (-0.010000000000218279,),\n",
      " (-0.56459568456693887,),\n",
      " (nan,),\n",
      " (nan,),\n",
      " (-0.010000000000673026,),\n",
      " (0.092705033871880005,),\n",
      " (0.73664597265405973,),\n",
      " (-3.406499987665029,),\n",
      " (-2.2266103388292322,),\n",
      " (-3.3501434746922314,),\n",
      " (-0.009064224585017655,),\n",
      " (0.0,),\n",
      " (-1.010270039349507,),\n",
      " (-3.5841108052577511,),\n",
      " (nan,),\n",
      " (nan,),\n",
      " (-2.2600566893083851,),\n",
      " (-0.86608592152515484,),\n",
      " (-2.0634944375083251,),\n",
      " (-0.3529637404631103,),\n",
      " (0.2380115901219142,),\n",
      " (-1.5738288033226127,),\n",
      " (-3.5324143037742033,),\n",
      " (-3.521751612938715,),\n",
      " (-0.012676797656695271,),\n",
      " (-1.3485533777616183,),\n",
      " (-1.6224892703858131,),\n",
      " (-0.80481102332396404,),\n",
      " (-0.46859042172036425,),\n",
      " (-1.3220697977062628,),\n",
      " (-2.440754595659655,),\n",
      " (-4.5032709410220377,),\n",
      " (-2.2784455909936696,),\n",
      " (-0.010000000000218279,),\n",
      " (-0.0099999999997635314,),\n",
      " (-1.9145215664707393,),\n",
      " (-2.1901402234461784,),\n",
      " (nan,),\n",
      " (-1.911572481471012,),\n",
      " (-1.8771634022441503,),\n",
      " (nan,),\n",
      " (nan,),\n",
      " (-0.63931710695442234,),\n",
      " (0.00037153624998609303,),\n",
      " (-0.010000000000218279,),\n",
      " (-0.010000000000218279,),\n",
      " (-0.010000000000218279,),\n",
      " (-0.010000000000673026,),\n",
      " (-0.38570537140458327,),\n",
      " (-1.1709924971423789,),\n",
      " (-1.228225842023221,),\n",
      " (nan,),\n",
      " (nan,),\n",
      " (-0.015861252902141132,),\n",
      " (-0.010000000000218279,),\n",
      " (nan,),\n",
      " (-0.0095438173680122418,),\n",
      " (-0.69000000000005457,),\n",
      " (-0.010000000000218279,),\n",
      " (-0.010000000000218279,),\n",
      " (nan,),\n",
      " (-0.76680143958446934,),\n",
      " (-0.98574858365509499,),\n",
      " (-2.3219316671375054,),\n",
      " (-4.3942290128265995,),\n",
      " (-2.2629210410009364,),\n",
      " (-1.5347605864399156,),\n",
      " (nan,),\n",
      " (nan,),\n",
      " (-2.5037520287555708,),\n",
      " (-3.9774397398928159,),\n",
      " (-1.6186387706525238,),\n",
      " (nan,),\n",
      " (-3.222413653285912,),\n",
      " (-1.350779374042304,),\n",
      " (-1.4414182173281915,),\n",
      " (nan,),\n",
      " (-3.6232459536604438,),\n",
      " (-1.6534025083187771,),\n",
      " (-0.52549394236393709,),\n",
      " (-0.88971455833689106,),\n",
      " (-2.0460636604079809,),\n",
      " (0.37667458797568543,),\n",
      " (-0.44914290676888413,),\n",
      " (-1.2056759758588669,),\n",
      " (nan,),\n",
      " (nan,),\n",
      " (-0.99287859866399231,),\n",
      " (nan,),\n",
      " (-1.4208728707080809,),\n",
      " (-3.6446561976276826,),\n",
      " (nan,),\n",
      " (1.2225547519492466,),\n",
      " (-4.8098174698993716,),\n",
      " (nan,),\n",
      " (0.058104591122628335,),\n",
      " (-0.0099999999997635314,),\n",
      " (0.56679233886688962,),\n",
      " (0.01396349515152906,),\n",
      " (nan,),\n",
      " (0.011362160648786812,),\n",
      " (-1.0705818748060665,),\n",
      " (nan,),\n",
      " (nan,),\n",
      " (-0.0099999999997635314,),\n",
      " (-0.39520355492550152,),\n",
      " (-0.019718926351288246,),\n",
      " (-3.0601863029482956,)]\n"
     ]
    }
   ],
   "source": [
    "n = 200\n",
    "from pprint import pprint\n",
    "pprint( zip( btc_sell[:n]- btc_buy[:n]) )"
   ]
  },
  {
   "cell_type": "code",
   "execution_count": 64,
   "metadata": {
    "collapsed": false
   },
   "outputs": [],
   "source": [
    "def pairs_trading_back_testing_2(btc_sell, btc_buy, eth_sell, eth_buy):\n",
    "    import numpy as np\n",
    "    btc = (btc_sell+ btc_buy)/2\n",
    "    eth = (eth_sell+ eth_buy)/2\n",
    "    btc_eth_ratio = btc/eth\n",
    "    margin = 1\n",
    "    initial_cash = margin\n",
    "    initial_btc = 0\n",
    "    initial_eth = 0\n",
    "    position_cash = initial_cash\n",
    "    position_btc = initial_btc\n",
    "    position_eth = initial_eth\n",
    "    res = 1\n",
    "    n = len(btc)\n",
    "    position = 0\n",
    "    position_hist = np.zeros(n)\n",
    "# comission \n",
    "    commission_rate = 0.0025\n",
    "#     mean = np.mean( btc_eth_ratio)\n",
    "#     std = np.std(btc_eth_ratio)\n",
    "    for i in range(n):\n",
    "        if i%10000 == 1:\n",
    "            print(i)\n",
    "        mean = np.mean( btc_eth_ratio[:i+1] )\n",
    "        std = np.std(btc_eth_ratio[:i+1])\n",
    "        if btc_eth_ratio[i] > mean + std and position != 1:\n",
    "            print('long second short first')\n",
    "            position_cash = position_cash + position_btc*btc_buy[i] + position_eth*eth_sell[i]\n",
    "            position_btc = -position_cash/btc_sell[i] * (1 + commission_rate)\n",
    "            position_eth = position_cash/eth_buy[i] * (1- commission_rate)\n",
    "            position = 1\n",
    "        if btc_eth_ratio[i] < mean - std and position != -1:\n",
    "            print('long first short second')\n",
    "            position_cash = position_cash + position_btc*btc_sell[i] + position_eth*eth_buy[i]\n",
    "            position_btc = position_cash/btc_buy[i] * (1- commission_rate)\n",
    "            position_eth = -position_cash/eth_sell[i] * (1+ commission_rate)\n",
    "            position = -1\n",
    "        if position_btc < 0:\n",
    "            position_hist[i] = position_cash + position_btc * btc_buy[i] * (1 + commission_rate)\n",
    "            + position_eth * eth_sell[i] * (1- commission_rate)\n",
    "        else:\n",
    "            position_hist[i] = position_cash + position_btc * btc_sell[i] * (1 - commission_rate) \n",
    "            + position_eth * eth_buy[i] * (1 + commission_rate)\n",
    "    res = position_hist[-1]\n",
    "    print(res)\n",
    "    import matplotlib.pyplot as plt\n",
    "    plt.scatter(range(data_0.shape[0]),position_hist)\n",
    "    plt.show()"
   ]
  },
  {
   "cell_type": "code",
   "execution_count": 65,
   "metadata": {
    "collapsed": false
   },
   "outputs": [
    {
     "name": "stdout",
     "output_type": "stream",
     "text": [
      "1\n",
      "long first short second\n",
      "long second short first\n",
      "long first short second\n",
      "long second short first\n",
      "long first short second\n",
      "10001\n",
      "long second short first\n",
      "20001\n",
      "long first short second\n",
      "30001\n",
      "40001\n",
      "long second short first\n",
      "50001\n",
      "60001\n",
      "70001\n",
      "80001\n",
      "[ 1.         1.         1.        ...,  0.0355251  0.0355251  0.0355251]\n"
     ]
    },
    {
     "data": {
      "image/png": "[encoded data removed]",
      "text/plain": [
       "<matplotlib.figure.Figure at 0x122d2a950>"
      ]
     },
     "metadata": {},
     "output_type": "display_data"
    }
   ],
   "source": [
    "pairs_trading_back_testing_2(btc_sell,btc_buy,eth_sell, eth_buy)"
   ]
  },
  {
   "cell_type": "code",
   "execution_count": 63,
   "metadata": {
    "collapsed": false
   },
   "outputs": [
    {
     "data": {
      "text/plain": [
       "88568"
      ]
     },
     "execution_count": 63,
     "metadata": {},
     "output_type": "execute_result"
    }
   ],
   "source": [
    "len(btc)"
   ]
  },
  {
   "cell_type": "code",
   "execution_count": null,
   "metadata": {
    "collapsed": true
   },
   "outputs": [],
   "source": []
  }
 ],
 "metadata": {
  "kernelspec": {
   "display_name": "Python 2",
   "language": "python",
   "name": "python2"
  },
  "language_info": {
   "codemirror_mode": {
    "name": "ipython",
    "version": 2
   },
   "file_extension": ".py",
   "mimetype": "text/x-python",
   "name": "python",
   "nbconvert_exporter": "python",
   "pygments_lexer": "ipython2",
   "version": "2.7.13"
  }
 },
 "nbformat": 4,
 "nbformat_minor": 0
}
